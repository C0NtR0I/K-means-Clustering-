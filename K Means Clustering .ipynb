{
 "cells": [
  {
   "cell_type": "code",
   "execution_count": 1,
   "id": "a754fa1c",
   "metadata": {},
   "outputs": [],
   "source": [
    "import pandas as pd\n",
    "import numpy as np\n",
    "import matplotlib.pyplot as plt\n",
    "from sklearn.cluster import KMeans"
   ]
  },
  {
   "cell_type": "code",
   "execution_count": 7,
   "id": "d4adb30b",
   "metadata": {},
   "outputs": [
    {
     "data": {
      "text/html": [
       "<div>\n",
       "<style scoped>\n",
       "    .dataframe tbody tr th:only-of-type {\n",
       "        vertical-align: middle;\n",
       "    }\n",
       "\n",
       "    .dataframe tbody tr th {\n",
       "        vertical-align: top;\n",
       "    }\n",
       "\n",
       "    .dataframe thead th {\n",
       "        text-align: right;\n",
       "    }\n",
       "</style>\n",
       "<table border=\"1\" class=\"dataframe\">\n",
       "  <thead>\n",
       "    <tr style=\"text-align: right;\">\n",
       "      <th></th>\n",
       "      <th>Longitude</th>\n",
       "      <th>Latitude</th>\n",
       "    </tr>\n",
       "  </thead>\n",
       "  <tbody>\n",
       "    <tr>\n",
       "      <th>count</th>\n",
       "      <td>241.000000</td>\n",
       "      <td>241.000000</td>\n",
       "    </tr>\n",
       "    <tr>\n",
       "      <th>mean</th>\n",
       "      <td>14.215380</td>\n",
       "      <td>17.169377</td>\n",
       "    </tr>\n",
       "    <tr>\n",
       "      <th>std</th>\n",
       "      <td>72.013654</td>\n",
       "      <td>26.554014</td>\n",
       "    </tr>\n",
       "    <tr>\n",
       "      <th>min</th>\n",
       "      <td>-177.348348</td>\n",
       "      <td>-80.508579</td>\n",
       "    </tr>\n",
       "    <tr>\n",
       "      <th>25%</th>\n",
       "      <td>-36.433184</td>\n",
       "      <td>1.358761</td>\n",
       "    </tr>\n",
       "    <tr>\n",
       "      <th>50%</th>\n",
       "      <td>18.644925</td>\n",
       "      <td>17.277500</td>\n",
       "    </tr>\n",
       "    <tr>\n",
       "      <th>75%</th>\n",
       "      <td>47.587005</td>\n",
       "      <td>39.115541</td>\n",
       "    </tr>\n",
       "    <tr>\n",
       "      <th>max</th>\n",
       "      <td>171.484924</td>\n",
       "      <td>74.710513</td>\n",
       "    </tr>\n",
       "  </tbody>\n",
       "</table>\n",
       "</div>"
      ],
      "text/plain": [
       "        Longitude    Latitude\n",
       "count  241.000000  241.000000\n",
       "mean    14.215380   17.169377\n",
       "std     72.013654   26.554014\n",
       "min   -177.348348  -80.508579\n",
       "25%    -36.433184    1.358761\n",
       "50%     18.644925   17.277500\n",
       "75%     47.587005   39.115541\n",
       "max    171.484924   74.710513"
      ]
     },
     "execution_count": 7,
     "metadata": {},
     "output_type": "execute_result"
    }
   ],
   "source": [
    "raw_data=pd.read_csv(\"3.1 Countries_exercise.csv.csv\")\n",
    "raw_data.describe()\n"
   ]
  },
  {
   "cell_type": "code",
   "execution_count": 8,
   "id": "10ff06a6",
   "metadata": {},
   "outputs": [],
   "source": [
    "df=raw_data.copy()"
   ]
  },
  {
   "cell_type": "markdown",
   "id": "5e4f6544",
   "metadata": {},
   "source": [
    "# Plot data"
   ]
  },
  {
   "cell_type": "code",
   "execution_count": 10,
   "id": "1f8f3c00",
   "metadata": {},
   "outputs": [
    {
     "data": {
      "image/png": "[encoded data removed]",
      "text/plain": [
       "<Figure size 640x480 with 1 Axes>"
      ]
     },
     "metadata": {},
     "output_type": "display_data"
    }
   ],
   "source": [
    "plt.scatter(df['Longitude'],df['Latitude'])\n",
    "plt.xlim(-180,180)\n",
    "plt.ylim(-90,90)\n",
    "plt.show()"
   ]
  },
  {
   "cell_type": "code",
   "execution_count": 21,
   "id": "149efc2f",
   "metadata": {},
   "outputs": [
    {
     "data": {
      "text/html": [
       "<div>\n",
       "<style scoped>\n",
       "    .dataframe tbody tr th:only-of-type {\n",
       "        vertical-align: middle;\n",
       "    }\n",
       "\n",
       "    .dataframe tbody tr th {\n",
       "        vertical-align: top;\n",
       "    }\n",
       "\n",
       "    .dataframe thead th {\n",
       "        text-align: right;\n",
       "    }\n",
       "</style>\n",
       "<table border=\"1\" class=\"dataframe\">\n",
       "  <thead>\n",
       "    <tr style=\"text-align: right;\">\n",
       "      <th></th>\n",
       "      <th>Longitude</th>\n",
       "      <th>Latitude</th>\n",
       "    </tr>\n",
       "  </thead>\n",
       "  <tbody>\n",
       "    <tr>\n",
       "      <th>0</th>\n",
       "      <td>-69.982677</td>\n",
       "      <td>12.520880</td>\n",
       "    </tr>\n",
       "    <tr>\n",
       "      <th>1</th>\n",
       "      <td>66.004734</td>\n",
       "      <td>33.835231</td>\n",
       "    </tr>\n",
       "    <tr>\n",
       "      <th>2</th>\n",
       "      <td>17.537368</td>\n",
       "      <td>-12.293361</td>\n",
       "    </tr>\n",
       "    <tr>\n",
       "      <th>3</th>\n",
       "      <td>-63.064989</td>\n",
       "      <td>18.223959</td>\n",
       "    </tr>\n",
       "    <tr>\n",
       "      <th>4</th>\n",
       "      <td>20.049834</td>\n",
       "      <td>41.142450</td>\n",
       "    </tr>\n",
       "  </tbody>\n",
       "</table>\n",
       "</div>"
      ],
      "text/plain": [
       "   Longitude   Latitude\n",
       "0 -69.982677  12.520880\n",
       "1  66.004734  33.835231\n",
       "2  17.537368 -12.293361\n",
       "3 -63.064989  18.223959\n",
       "4  20.049834  41.142450"
      ]
     },
     "execution_count": 21,
     "metadata": {},
     "output_type": "execute_result"
    }
   ],
   "source": [
    "# df.iloc(:,0,2)\n",
    "x=df.iloc[:,1:]\n",
    "x.head()"
   ]
  },
  {
   "cell_type": "markdown",
   "id": "331d7563",
   "metadata": {},
   "source": [
    "# Clustering"
   ]
  },
  {
   "cell_type": "code",
   "execution_count": 68,
   "id": "ae2221ba",
   "metadata": {},
   "outputs": [],
   "source": [
    "kmeans=KMeans(3)"
   ]
  },
  {
   "cell_type": "code",
   "execution_count": 69,
   "id": "5313f0d3",
   "metadata": {},
   "outputs": [
    {
     "data": {
      "text/html": [
       "<style>#sk-container-id-6 {color: black;background-color: white;}#sk-container-id-6 pre{padding: 0;}#sk-container-id-6 div.sk-toggleable {background-color: white;}#sk-container-id-6 label.sk-toggleable__label {cursor: pointer;display: block;width: 100%;margin-bottom: 0;padding: 0.3em;box-sizing: border-box;text-align: center;}#sk-container-id-6 label.sk-toggleable__label-arrow:before {content: \"▸\";float: left;margin-right: 0.25em;color: #696969;}#sk-container-id-6 label.sk-toggleable__label-arrow:hover:before {color: black;}#sk-container-id-6 div.sk-estimator:hover label.sk-toggleable__label-arrow:before {color: black;}#sk-container-id-6 div.sk-toggleable__content {max-height: 0;max-width: 0;overflow: hidden;text-align: left;background-color: #f0f8ff;}#sk-container-id-6 div.sk-toggleable__content pre {margin: 0.2em;color: black;border-radius: 0.25em;background-color: #f0f8ff;}#sk-container-id-6 input.sk-toggleable__control:checked~div.sk-toggleable__content {max-height: 200px;max-width: 100%;overflow: auto;}#sk-container-id-6 input.sk-toggleable__control:checked~label.sk-toggleable__label-arrow:before {content: \"▾\";}#sk-container-id-6 div.sk-estimator input.sk-toggleable__control:checked~label.sk-toggleable__label {background-color: #d4ebff;}#sk-container-id-6 div.sk-label input.sk-toggleable__control:checked~label.sk-toggleable__label {background-color: #d4ebff;}#sk-container-id-6 input.sk-hidden--visually {border: 0;clip: rect(1px 1px 1px 1px);clip: rect(1px, 1px, 1px, 1px);height: 1px;margin: -1px;overflow: hidden;padding: 0;position: absolute;width: 1px;}#sk-container-id-6 div.sk-estimator {font-family: monospace;background-color: #f0f8ff;border: 1px dotted black;border-radius: 0.25em;box-sizing: border-box;margin-bottom: 0.5em;}#sk-container-id-6 div.sk-estimator:hover {background-color: #d4ebff;}#sk-container-id-6 div.sk-parallel-item::after {content: \"\";width: 100%;border-bottom: 1px solid gray;flex-grow: 1;}#sk-container-id-6 div.sk-label:hover label.sk-toggleable__label {background-color: #d4ebff;}#sk-container-id-6 div.sk-serial::before {content: \"\";position: absolute;border-left: 1px solid gray;box-sizing: border-box;top: 0;bottom: 0;left: 50%;z-index: 0;}#sk-container-id-6 div.sk-serial {display: flex;flex-direction: column;align-items: center;background-color: white;padding-right: 0.2em;padding-left: 0.2em;position: relative;}#sk-container-id-6 div.sk-item {position: relative;z-index: 1;}#sk-container-id-6 div.sk-parallel {display: flex;align-items: stretch;justify-content: center;background-color: white;position: relative;}#sk-container-id-6 div.sk-item::before, #sk-container-id-6 div.sk-parallel-item::before {content: \"\";position: absolute;border-left: 1px solid gray;box-sizing: border-box;top: 0;bottom: 0;left: 50%;z-index: -1;}#sk-container-id-6 div.sk-parallel-item {display: flex;flex-direction: column;z-index: 1;position: relative;background-color: white;}#sk-container-id-6 div.sk-parallel-item:first-child::after {align-self: flex-end;width: 50%;}#sk-container-id-6 div.sk-parallel-item:last-child::after {align-self: flex-start;width: 50%;}#sk-container-id-6 div.sk-parallel-item:only-child::after {width: 0;}#sk-container-id-6 div.sk-dashed-wrapped {border: 1px dashed gray;margin: 0 0.4em 0.5em 0.4em;box-sizing: border-box;padding-bottom: 0.4em;background-color: white;}#sk-container-id-6 div.sk-label label {font-family: monospace;font-weight: bold;display: inline-block;line-height: 1.2em;}#sk-container-id-6 div.sk-label-container {text-align: center;}#sk-container-id-6 div.sk-container {/* jupyter's `normalize.less` sets `[hidden] { display: none; }` but bootstrap.min.css set `[hidden] { display: none !important; }` so we also need the `!important` here to be able to override the default hidden behavior on the sphinx rendered scikit-learn.org. See: https://github.com/scikit-learn/scikit-learn/issues/21755 */display: inline-block !important;position: relative;}#sk-container-id-6 div.sk-text-repr-fallback {display: none;}</style><div id=\"sk-container-id-6\" class=\"sk-top-container\"><div class=\"sk-text-repr-fallback\"><pre>KMeans(n_clusters=3)</pre><b>In a Jupyter environment, please rerun this cell to show the HTML representation or trust the notebook. <br />On GitHub, the HTML representation is unable to render, please try loading this page with nbviewer.org.</b></div><div class=\"sk-container\" hidden><div class=\"sk-item\"><div class=\"sk-estimator sk-toggleable\"><input class=\"sk-toggleable__control sk-hidden--visually\" id=\"sk-estimator-id-6\" type=\"checkbox\" checked><label for=\"sk-estimator-id-6\" class=\"sk-toggleable__label sk-toggleable__label-arrow\">KMeans</label><div class=\"sk-toggleable__content\"><pre>KMeans(n_clusters=3)</pre></div></div></div></div></div>"
      ],
      "text/plain": [
       "KMeans(n_clusters=3)"
      ]
     },
     "execution_count": 69,
     "metadata": {},
     "output_type": "execute_result"
    }
   ],
   "source": [
    "kmeans.fit(x)"
   ]
  },
  {
   "cell_type": "markdown",
   "id": "85ba01b8",
   "metadata": {},
   "source": [
    "# Clustering Result "
   ]
  },
  {
   "cell_type": "code",
   "execution_count": 70,
   "id": "8042737f",
   "metadata": {},
   "outputs": [
    {
     "data": {
      "text/plain": [
       "array([2, 0, 0, 2, 0, 0, 0, 0, 2, 0, 2, 0, 1, 1, 2, 1, 0, 0, 0, 0, 0, 0,\n",
       "       1, 0, 0, 2, 2, 0, 2, 0, 2, 2, 2, 2, 2, 1, 1, 0, 0, 0, 2, 1, 0, 0,\n",
       "       0, 0, 2, 2, 0, 0, 2, 2, 2, 2, 0, 0, 0, 0, 0, 2, 0, 2, 0, 2, 0, 0,\n",
       "       0, 0, 0, 0, 1, 2, 0, 0, 1, 0, 0, 0, 0, 0, 0, 0, 0, 0, 0, 2, 2, 2,\n",
       "       1, 2, 1, 1, 2, 0, 2, 0, 1, 0, 1, 1, 1, 0, 0, 0, 0, 0, 0, 2, 0, 0,\n",
       "       1, 1, 0, 0, 0, 1, 2, 2, 1, 0, 0, 1, 0, 0, 0, 2, 0, 1, 0, 0, 0, 0,\n",
       "       1, 2, 0, 0, 0, 0, 1, 2, 1, 0, 0, 0, 1, 0, 1, 1, 0, 0, 2, 0, 0, 1,\n",
       "       0, 1, 0, 1, 0, 2, 2, 0, 0, 1, 1, 1, 0, 0, 2, 2, 2, 1, 1, 1, 0, 2,\n",
       "       1, 0, 2, 0, 2, 0, 0, 1, 0, 0, 0, 0, 0, 0, 1, 2, 0, 1, 0, 2, 0, 0,\n",
       "       0, 2, 0, 0, 2, 0, 0, 0, 0, 2, 0, 0, 2, 0, 0, 1, 0, 0, 1, 2, 2, 0,\n",
       "       0, 1, 0, 0, 0, 2, 2, 0, 0, 2, 2, 2, 2, 1, 1, 2, 2, 0, 0, 0, 0])"
      ]
     },
     "execution_count": 70,
     "metadata": {},
     "output_type": "execute_result"
    }
   ],
   "source": [
    "identified_clusters=kmeans.fit_predict(x)\n",
    "identified_clusters"
   ]
  },
  {
   "cell_type": "code",
   "execution_count": 71,
   "id": "c7bdf3be",
   "metadata": {},
   "outputs": [
    {
     "data": {
      "text/html": [
       "<div>\n",
       "<style scoped>\n",
       "    .dataframe tbody tr th:only-of-type {\n",
       "        vertical-align: middle;\n",
       "    }\n",
       "\n",
       "    .dataframe tbody tr th {\n",
       "        vertical-align: top;\n",
       "    }\n",
       "\n",
       "    .dataframe thead th {\n",
       "        text-align: right;\n",
       "    }\n",
       "</style>\n",
       "<table border=\"1\" class=\"dataframe\">\n",
       "  <thead>\n",
       "    <tr style=\"text-align: right;\">\n",
       "      <th></th>\n",
       "      <th>name</th>\n",
       "      <th>Longitude</th>\n",
       "      <th>Latitude</th>\n",
       "      <th>cluster</th>\n",
       "    </tr>\n",
       "  </thead>\n",
       "  <tbody>\n",
       "    <tr>\n",
       "      <th>0</th>\n",
       "      <td>Aruba</td>\n",
       "      <td>-69.982677</td>\n",
       "      <td>12.520880</td>\n",
       "      <td>2</td>\n",
       "    </tr>\n",
       "    <tr>\n",
       "      <th>1</th>\n",
       "      <td>Afghanistan</td>\n",
       "      <td>66.004734</td>\n",
       "      <td>33.835231</td>\n",
       "      <td>0</td>\n",
       "    </tr>\n",
       "    <tr>\n",
       "      <th>2</th>\n",
       "      <td>Angola</td>\n",
       "      <td>17.537368</td>\n",
       "      <td>-12.293361</td>\n",
       "      <td>0</td>\n",
       "    </tr>\n",
       "    <tr>\n",
       "      <th>3</th>\n",
       "      <td>Anguilla</td>\n",
       "      <td>-63.064989</td>\n",
       "      <td>18.223959</td>\n",
       "      <td>2</td>\n",
       "    </tr>\n",
       "    <tr>\n",
       "      <th>4</th>\n",
       "      <td>Albania</td>\n",
       "      <td>20.049834</td>\n",
       "      <td>41.142450</td>\n",
       "      <td>0</td>\n",
       "    </tr>\n",
       "  </tbody>\n",
       "</table>\n",
       "</div>"
      ],
      "text/plain": [
       "          name  Longitude   Latitude  cluster\n",
       "0        Aruba -69.982677  12.520880        2\n",
       "1  Afghanistan  66.004734  33.835231        0\n",
       "2       Angola  17.537368 -12.293361        0\n",
       "3     Anguilla -63.064989  18.223959        2\n",
       "4      Albania  20.049834  41.142450        0"
      ]
     },
     "execution_count": 71,
     "metadata": {},
     "output_type": "execute_result"
    }
   ],
   "source": [
    "data_with_clusters=df.copy()\n",
    "data_with_clusters['cluster']=identified_clusters\n",
    "data_with_clusters.head()"
   ]
  },
  {
   "cell_type": "code",
   "execution_count": 72,
   "id": "79d9fcf2",
   "metadata": {},
   "outputs": [
    {
     "data": {
      "image/png": "[encoded data removed]",
      "text/plain": [
       "<Figure size 640x480 with 1 Axes>"
      ]
     },
     "metadata": {},
     "output_type": "display_data"
    }
   ],
   "source": [
    "plt.scatter(df['Longitude'],df['Latitude'],c=data_with_clusters['cluster'],cmap='rainbow')\n",
    "plt.xlim(-180,180)\n",
    "plt.ylim(-90,90)\n",
    "plt.show()"
   ]
  },
  {
   "cell_type": "markdown",
   "id": "2f659c55",
   "metadata": {},
   "source": [
    "# Deciding the K..."
   ]
  },
  {
   "cell_type": "code",
   "execution_count": 50,
   "id": "d22a720e",
   "metadata": {},
   "outputs": [],
   "source": [
    "wcss=[]"
   ]
  },
  {
   "cell_type": "code",
   "execution_count": 52,
   "id": "b268fbaa",
   "metadata": {},
   "outputs": [],
   "source": [
    "for i in range (1,242):\n",
    "    kmeans=KMeans(i)\n",
    "    kmeans.fit(x)\n",
    "    wcss.append(kmeans.inertia_)\n",
    "    "
   ]
  },
  {
   "cell_type": "code",
   "execution_count": 53,
   "id": "ce81cb54",
   "metadata": {},
   "outputs": [
    {
     "data": {
      "text/plain": [
       "[1413859.6798344273,\n",
       " 657012.0797586325,\n",
       " 325235.52237055905,\n",
       " 256573.086759343,\n",
       " 192356.48001889366,\n",
       " 152164.1522106638,\n",
       " 126990.80050429133,\n",
       " 102913.61962302419,\n",
       " 84927.05022223275,\n",
       " 76615.77904339501,\n",
       " 69379.31851481686,\n",
       " 63012.881383208645,\n",
       " 59024.392480194285,\n",
       " 53339.97475639211,\n",
       " 51553.26644748654,\n",
       " 48368.70924744988,\n",
       " 44945.806056846224,\n",
       " 42216.167812819935,\n",
       " 39353.748848224925,\n",
       " 36832.56933020903,\n",
       " 34650.222515048205,\n",
       " 32181.34812404276,\n",
       " 30325.147752860492,\n",
       " 28893.381865486786,\n",
       " 27458.928447339753,\n",
       " 25455.76710280805,\n",
       " 24186.621045767202,\n",
       " 23228.065300280843,\n",
       " 22348.31731517384,\n",
       " 20961.384534843524,\n",
       " 19885.87486993955,\n",
       " 19195.993497886047,\n",
       " 17586.448465724334,\n",
       " 16619.975485421062,\n",
       " 16048.303766901854,\n",
       " 15137.104009571856,\n",
       " 14947.551072218797,\n",
       " 14659.897938924598,\n",
       " 14221.505277926337,\n",
       " 13386.936837199937,\n",
       " 13076.640078343873,\n",
       " 12278.229807501686,\n",
       " 11800.719921410755,\n",
       " 11353.293627871908,\n",
       " 10523.465261371855,\n",
       " 10701.250909177734,\n",
       " 10184.933913951636,\n",
       " 10045.00905635828,\n",
       " 9629.302171949348,\n",
       " 9394.443528079424,\n",
       " 9172.066893343906,\n",
       " 8584.70994689574,\n",
       " 8350.935364853807,\n",
       " 8307.093516879795,\n",
       " 7913.92901502255,\n",
       " 7823.661867930568,\n",
       " 7275.5689351659275,\n",
       " 7230.056919087036,\n",
       " 7077.504645441583,\n",
       " 6704.7250514806365,\n",
       " 6692.852716924901,\n",
       " 6410.43242987064,\n",
       " 6282.1274099796965,\n",
       " 6141.064418668962,\n",
       " 5867.04442101027,\n",
       " 5869.3941373046855,\n",
       " 5455.450671779897,\n",
       " 5407.534568897855,\n",
       " 5322.903777094447,\n",
       " 5090.128761563611,\n",
       " 4878.965596281737,\n",
       " 4794.391889152473,\n",
       " 4761.812698919705,\n",
       " 4673.798822872593,\n",
       " 4539.663695287454,\n",
       " 4355.1019854253545,\n",
       " 4138.670609132583,\n",
       " 4105.948809894908,\n",
       " 3999.7703744771115,\n",
       " 3930.0388989125754,\n",
       " 3690.7371556380986,\n",
       " 3687.996405595804,\n",
       " 3634.305005927256,\n",
       " 3418.1985679739896,\n",
       " 3331.038482798367,\n",
       " 3160.895467420218,\n",
       " 3184.659374213899,\n",
       " 3119.2456133340356,\n",
       " 3052.5072356388246,\n",
       " 2985.0743863215885,\n",
       " 2875.0852339987964,\n",
       " 2796.7898009210708,\n",
       " 2794.196361500733,\n",
       " 2649.6082926741283,\n",
       " 2460.970540066206,\n",
       " 2468.1941481928816,\n",
       " 2447.085471670329,\n",
       " 2393.8318507310346,\n",
       " 2340.174159502369,\n",
       " 2287.91162438899,\n",
       " 2201.8199431254284,\n",
       " 2150.8936641930386,\n",
       " 2063.8514713620134,\n",
       " 2053.9967289108095,\n",
       " 1988.0833947961737,\n",
       " 1980.1609948761227,\n",
       " 1858.3869432237168,\n",
       " 1841.761432053275,\n",
       " 1739.442430706093,\n",
       " 1705.3338913146174,\n",
       " 1672.1874190766728,\n",
       " 1649.7592540541368,\n",
       " 1593.0010447654493,\n",
       " 1521.3681727971477,\n",
       " 1451.9884292034405,\n",
       " 1457.344983040634,\n",
       " 1460.3419405851764,\n",
       " 1396.2539946779816,\n",
       " 1406.1263876459377,\n",
       " 1332.0587032527935,\n",
       " 1289.1186992214252,\n",
       " 1231.6388378412569,\n",
       " 1215.551637282907,\n",
       " 1195.54840824736,\n",
       " 1113.4255587475159,\n",
       " 1068.2440895762077,\n",
       " 1034.0299025141062,\n",
       " 1024.1916200246576,\n",
       " 1028.650170515603,\n",
       " 996.0188893394962,\n",
       " 952.1428606337095,\n",
       " 886.7356633345256,\n",
       " 861.847795910282,\n",
       " 884.3015467537134,\n",
       " 845.6116399555636,\n",
       " 801.0850038436091,\n",
       " 772.2153493375058,\n",
       " 784.2089842901227,\n",
       " 751.0197302414223,\n",
       " 725.5565153906684,\n",
       " 693.536084904757,\n",
       " 643.2790117939027,\n",
       " 651.6298263327761,\n",
       " 633.044026186908,\n",
       " 627.1381817626659,\n",
       " 595.3982612028328,\n",
       " 568.3552200529529,\n",
       " 540.2727012119492,\n",
       " 539.1480533057123,\n",
       " 513.0796933952201,\n",
       " 509.2273816490891,\n",
       " 480.89041379038406,\n",
       " 474.3059250133824,\n",
       " 463.9578535565279,\n",
       " 454.0145457716374,\n",
       " 426.2832522115827,\n",
       " 419.10376845686534,\n",
       " 408.64394244691994,\n",
       " 375.69655564511487,\n",
       " 366.25134041988747,\n",
       " 353.0776422397909,\n",
       " 351.00510411289804,\n",
       " 327.90549337923335,\n",
       " 320.81593333281216,\n",
       " 308.8684290570138,\n",
       " 298.23273044769536,\n",
       " 289.22847229510637,\n",
       " 273.74219554731195,\n",
       " 256.3625372510943,\n",
       " 251.34030449765385,\n",
       " 241.459985461274,\n",
       " 231.18333605025293,\n",
       " 221.02873243363973,\n",
       " 215.924128600777,\n",
       " 207.77684956264198,\n",
       " 188.01159079324609,\n",
       " 184.45380372495333,\n",
       " 165.6856242658619,\n",
       " 169.2440466359691,\n",
       " 156.3378801040892,\n",
       " 152.19689267922973,\n",
       " 140.10503582808005,\n",
       " 131.09670714515875,\n",
       " 130.59246563628508,\n",
       " 123.32264889456093,\n",
       " 112.1040864156046,\n",
       " 106.75647014444534,\n",
       " 102.96390885488101,\n",
       " 97.92976899052202,\n",
       " 91.32765134593276,\n",
       " 87.63781968630143,\n",
       " 85.44985827271664,\n",
       " 78.86039138519399,\n",
       " 74.43735924887628,\n",
       " 71.94512058961891,\n",
       " 67.2632476234842,\n",
       " 64.17859879893706,\n",
       " 59.635549218626416,\n",
       " 56.09107830430583,\n",
       " 51.73056075847618,\n",
       " 48.67649354246705,\n",
       " 46.59552124465792,\n",
       " 43.880768260925954,\n",
       " 40.23011783929712,\n",
       " 39.71481802658073,\n",
       " 36.27135198971332,\n",
       " 33.74232497065407,\n",
       " 30.96782981365262,\n",
       " 29.751562357988004,\n",
       " 27.604281295824467,\n",
       " 25.57491763695319,\n",
       " 23.442823428438324,\n",
       " 22.12336576312234,\n",
       " 20.183842166719856,\n",
       " 18.352484338975255,\n",
       " 16.369692366798414,\n",
       " 15.335305437866841,\n",
       " 13.599052868774983,\n",
       " 11.825371991983378,\n",
       " 11.18843739390001,\n",
       " 9.989866572504196,\n",
       " 8.044077443945474,\n",
       " 6.850632588621729,\n",
       " 5.912470329965109,\n",
       " 4.974522473239055,\n",
       " 4.128932427381553,\n",
       " 3.325415119094811,\n",
       " 2.760935018763983,\n",
       " 2.2834446921005442,\n",
       " 1.8168462029337151,\n",
       " 1.4486640354769849,\n",
       " 1.1973469605217393,\n",
       " 0.9763369235964383,\n",
       " 0.7582519978492496,\n",
       " 0.5403551927615843,\n",
       " 0.34231456414362027,\n",
       " 0.2119023346432546,\n",
       " 0.08997126450348437,\n",
       " 0.01658946830933003,\n",
       " 0.0007279846098916333,\n",
       " 0.0]"
      ]
     },
     "execution_count": 53,
     "metadata": {},
     "output_type": "execute_result"
    }
   ],
   "source": [
    "wcss"
   ]
  },
  {
   "cell_type": "markdown",
   "id": "7ea16ebf",
   "metadata": {},
   "source": [
    "# The Elbow Method"
   ]
  },
  {
   "cell_type": "code",
   "execution_count": 55,
   "id": "257d0b5a",
   "metadata": {},
   "outputs": [
    {
     "data": {
      "text/plain": [
       "Text(0, 0.5, '__WCSS__')"
      ]
     },
     "execution_count": 55,
     "metadata": {},
     "output_type": "execute_result"
    },
    {
     "data": {
      "image/png": "[encoded data removed]",
      "text/plain": [
       "<Figure size 640x480 with 1 Axes>"
      ]
     },
     "metadata": {},
     "output_type": "display_data"
    }
   ],
   "source": [
    "number_cluster=range(1,242)\n",
    "plt.plot(number_cluster,wcss)\n",
    "plt.title(\" The Elbow Method\")\n",
    "plt.xlabel(\"Number of cluster\")\n",
    "plt.ylabel(\"__WCSS__\")"
   ]
  },
  {
   "cell_type": "code",
   "execution_count": 66,
   "id": "8bdbb1b1",
   "metadata": {},
   "outputs": [],
   "source": [
    "wcss=[]\n",
    "for i in range (1,10):\n",
    "    kmeans=KMeans(i)\n",
    "    kmeans.fit(x)\n",
    "    wcss.append(kmeans.inertia_)"
   ]
  },
  {
   "cell_type": "code",
   "execution_count": 67,
   "id": "d53cf722",
   "metadata": {},
   "outputs": [
    {
     "data": {
      "text/plain": [
       "Text(0, 0.5, '__WCSS__')"
      ]
     },
     "execution_count": 67,
     "metadata": {},
     "output_type": "execute_result"
    },
    {
     "data": {
      "image/png": "[encoded data removed]",
      "text/plain": [
       "<Figure size 640x480 with 1 Axes>"
      ]
     },
     "metadata": {},
     "output_type": "display_data"
    }
   ],
   "source": [
    "number_cluster=range(1,10)\n",
    "plt.plot(number_cluster,wcss)\n",
    "plt.title(\" The Elbow Method\")\n",
    "plt.xlabel(\"Number of cluster\")\n",
    "plt.ylabel(\"__WCSS__\")"
   ]
  },
  {
   "cell_type": "code",
   "execution_count": null,
   "id": "edb29c6a",
   "metadata": {},
   "outputs": [],
   "source": []
  }
 ],
 "metadata": {
  "kernelspec": {
   "display_name": "Python 3 (ipykernel)",
   "language": "python",
   "name": "python3"
  },
  "language_info": {
   "codemirror_mode": {
    "name": "ipython",
    "version": 3
   },
   "file_extension": ".py",
   "mimetype": "text/x-python",
   "name": "python",
   "nbconvert_exporter": "python",
   "pygments_lexer": "ipython3",
   "version": "3.10.7"
  }
 },
 "nbformat": 4,
 "nbformat_minor": 5
}
